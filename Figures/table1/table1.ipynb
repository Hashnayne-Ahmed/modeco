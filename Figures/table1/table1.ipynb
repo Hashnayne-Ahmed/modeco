{
 "cells": [
  {
   "cell_type": "code",
   "execution_count": 2,
   "id": "b7451fed-84eb-4151-8b85-2d0f223acc8f",
   "metadata": {},
   "outputs": [
    {
     "name": "stdout",
     "output_type": "stream",
     "text": [
      "  cos(phi_r)     Es0/E0     Savings (%)\n",
      "----------------------------------------\n",
      "        0.75     0.9138            8.62\n",
      "        0.80     0.9137            8.63\n",
      "        0.85     0.9137            8.63\n",
      "        0.90     0.9136            8.64\n",
      "        0.95     0.9136            8.64\n",
      "        1.00     0.9135            8.65\n"
     ]
    }
   ],
   "source": [
    "import numpy as np\n",
    "\n",
    "# Given parameters\n",
    "cos_phi_r_list = np.array([0.75, 0.80, 0.85, 0.90, 0.95, 1.00])\n",
    "cos_phi_s = 0.4\n",
    "tau_s = 0.05\n",
    "\n",
    "# Output storage\n",
    "Es0_by_E0 = []\n",
    "savings_percent = []\n",
    "\n",
    "# Compute values\n",
    "for cos_phi_r in cos_phi_r_list:\n",
    "    term1 = (tau_s / cos_phi_r) * (cos_phi_s / 4 + (cos_phi_r - cos_phi_s) / 5)\n",
    "    term2 = (1 - tau_s)**2\n",
    "    ratio = term1 + term2\n",
    "    Es0_by_E0.append(ratio)\n",
    "    savings_percent.append((1 - ratio) * 100)\n",
    "\n",
    "# Print header\n",
    "print(f\"{'cos(phi_r)':>12} {'Es0/E0':>10} {'Savings (%)':>15}\")\n",
    "print(\"-\" * 40)\n",
    "\n",
    "# Print results\n",
    "for phi_r, e_ratio, saving in zip(cos_phi_r_list, Es0_by_E0, savings_percent):\n",
    "    print(f\"{phi_r:12.2f} {e_ratio:10.4f} {saving:15.2f}\")"
   ]
  },
  {
   "cell_type": "code",
   "execution_count": null,
   "id": "41d761ff-66c7-43b2-8c24-27601a3f6591",
   "metadata": {},
   "outputs": [],
   "source": []
  }
 ],
 "metadata": {
  "kernelspec": {
   "display_name": "Python 3 (ipykernel)",
   "language": "python",
   "name": "python3"
  },
  "language_info": {
   "codemirror_mode": {
    "name": "ipython",
    "version": 3
   },
   "file_extension": ".py",
   "mimetype": "text/x-python",
   "name": "python",
   "nbconvert_exporter": "python",
   "pygments_lexer": "ipython3",
   "version": "3.13.2"
  }
 },
 "nbformat": 4,
 "nbformat_minor": 5
}
